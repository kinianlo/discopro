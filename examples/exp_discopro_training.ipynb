{
 "cells": [
  {
   "cell_type": "code",
   "execution_count": 1,
   "id": "0ba58344-2284-4798-aa87-f4355edbcfae",
   "metadata": {},
   "outputs": [
    {
     "name": "stderr",
     "output_type": "stream",
     "text": [
      "WARNING:absl:No GPU/TPU found, falling back to CPU. (Set TF_CPP_MIN_LOG_LEVEL=0 and rerun for more info.)\n"
     ]
    }
   ],
   "source": [
    "import pandas as pd\n",
    "import numpy as np \n",
    "\n",
    "from discopy import Id, Ty\n",
    "\n",
    "from discopro.grammar import tensor\n",
    "from discopro.rewriting import contract, pronoun_rule\n",
    "from discopro.anaphora import connect_anaphora_on_top\n",
    "import discopro.training as train\n",
    "\n",
    "from lambeq.ccg2discocat import DepCCGParser\n",
    "from lambeq.circuit import IQPAnsatz\n",
    "from lambeq.core.types import AtomicType\n",
    "from lambeq.rewrite import Rewriter\n",
    "\n",
    "from pytket.extensions.qulacs import QulacsBackend\n",
    "from pytket.extensions.qiskit import AerBackend\n",
    "\n",
    "from multiprocessing import Pool, cpu_count\n",
    "import warnings\n",
    "warnings.filterwarnings('ignore')\n",
    "\n",
    "%load_ext autoreload\n",
    "%autoreload 2\n",
    "\n",
    "N = AtomicType.NOUN\n",
    "S = AtomicType.SENTENCE\n",
    "P = AtomicType.PREPOSITION\n",
    "\n",
    "SEED = 0"
   ]
  },
  {
   "cell_type": "code",
   "execution_count": 2,
   "id": "71f1015d-cc69-4679-b8f1-2f2d571114de",
   "metadata": {},
   "outputs": [],
   "source": [
    "parser = DepCCGParser()\n",
    "def parse(sent):\n",
    "    sentences = map(str.strip, sent.split('.'))\n",
    "    diag = Id(Ty())\n",
    "    for s in sentences:\n",
    "        if len(s) == 0:\n",
    "            continue\n",
    "        diag = tensor(diag, parser.sentence2diagram(s))\n",
    "    return diag"
   ]
  },
  {
   "cell_type": "code",
   "execution_count": 3,
   "id": "ea9e4447-36d2-44d0-bf43-17d001d41b02",
   "metadata": {},
   "outputs": [],
   "source": [
    "rewrite = Rewriter(['auxiliary', 'determiner', 'prepositional_phrase', 'connector', 'postadverb', 'preadverb'])\n",
    "rewrite.add_rules(pronoun_rule)\n",
    "\n",
    "ansatz = IQPAnsatz({N: 1, S: 1, P: 1}, n_layers=1)"
   ]
  },
  {
   "cell_type": "code",
   "execution_count": 4,
   "id": "52124f01-2049-4f0d-bf41-639da4704d60",
   "metadata": {},
   "outputs": [],
   "source": [
    "csv_path = \"datasets/wino2/{:}.csv\"\n",
    "df_train = pd.read_csv(csv_path.format('train')).head(5)\n",
    "df_dev = pd.read_csv(csv_path.format('dev'))\n",
    "df_test = pd.read_csv(csv_path.format('test'))"
   ]
  },
  {
   "cell_type": "code",
   "execution_count": 5,
   "id": "66c8989f-6e77-453a-ad9d-f426a4e43bb3",
   "metadata": {},
   "outputs": [],
   "source": [
    "df_train['label_one_hot'] = df_train['label'].map({0: [1, 0], 1: [0, 1]})\n",
    "df_dev['label_one_hot'] = df_dev['label'].map({0: [1, 0], 1: [0, 1]})\n",
    "df_test['label_one_hot'] = df_test['label'].map({0:[1, 0], 1: [0, 1]})"
   ]
  },
  {
   "cell_type": "code",
   "execution_count": 9,
   "id": "e0adb408-8df8-4bf4-8e88-5e8b9b53c053",
   "metadata": {},
   "outputs": [
    {
     "name": "stderr",
     "output_type": "stream",
     "text": [
      "\n",
      "\n",
      "\n",
      "\n",
      "\n",
      "\n",
      "\n",
      "\n",
      "\n",
      "\n",
      "\n",
      "\n",
      "\n",
      "\n",
      "\n",
      "\n",
      "\n",
      "\n",
      "\n",
      "\n",
      "\n",
      "\n",
      "\n",
      "\n",
      "\n",
      "\n"
     ]
    }
   ],
   "source": [
    "def sent_to_diag(row):\n",
    "    sent, pro, ref = row\n",
    "    diag = parse(sent)\n",
    "    pro_box_idx = next(i for i, box in enumerate(diag.boxes) if box.name.casefold() == pro.casefold())\n",
    "    ref_box_idx = next(i for i, box in enumerate(diag.boxes) if box.name.casefold() == ref.casefold())\n",
    "    diag = connect_anaphora_on_top(diag, pro_box_idx, ref_box_idx)\n",
    "    diag = rewrite(diag).normal_form()\n",
    "    diag = contract(diag)\n",
    "    return diag \n",
    "\n",
    "df_train['diagram'] = df_train[['sentence', 'pronoun', 'referent']].apply(sent_to_diag, axis=1)\n",
    "df_dev['diagram'] = df_dev[['sentence', 'pronoun', 'referent']].apply(sent_to_diag, axis=1)\n",
    "df_test['diagram'] = df_test[['sentence', 'pronoun', 'referent']].apply(sent_to_diag, axis=1)\n",
    "\n",
    "df_train['circuit'] = df_train['diagram'].map(ansatz)\n",
    "df_dev['circuit'] = df_dev['diagram'].map(ansatz)\n",
    "df_test['circuit'] = df_test['diagram'].map(ansatz)"
   ]
  },
  {
   "cell_type": "code",
   "execution_count": 42,
   "id": "fdf93bfb-d7a3-402f-85c2-72617d6ec6a0",
   "metadata": {},
   "outputs": [],
   "source": [
    "all_circuits = pd.concat([df_train['circuit'], df_dev['circuit'], df_test['circuit']])\n",
    "circ_symbols = train.get_sorted_symbols(all_circuits)\n",
    "reduction_tensor, tensor_symbols = train.get_reduction_tensor('R', 2)\n",
    "symbols = circ_symbols + tensor_symbols\n",
    "\n",
    "post_process = train.make_default_post_process(reduction_tensor, symbols)\n",
    "backend = QulacsBackend()\n",
    "optim_level = 2\n",
    "pool = Pool(cpu_count())\n",
    "eval_config = {'n_shots': 2**6,\n",
    "               'seed': SEED,\n",
    "               'parallel_eval': True,\n",
    "               'backend_name': 'qulacs',\n",
    "               'backend': backend,\n",
    "               'compilation_optim_level': optim_level,\n",
    "               'compilation': backend.default_compilation_pass(optim_level),\n",
    "               'pool': pool}\n",
    "\n",
    "pred_fn_train = train.make_pred_fn(df_train['circuit'], symbols, post_process, **eval_config)\n",
    "pred_fn_dev = train.make_pred_fn(df_dev['circuit'], symbols, post_process, **eval_config)\n",
    "pred_fn_test = train.make_pred_fn(df_test['circuit'], symbols, post_process, **eval_config)\n",
    "\n",
    "cost_fn_train, costs_train, accs_train = train.make_cost_fn(pred_fn_train, df_train['label_one_hot'].to_list())\n",
    "cost_fn_dev, costs_dev, accs_dev = train.make_cost_fn(pred_fn_dev, df_dev['label_one_hot'].to_list())"
   ]
  },
  {
   "cell_type": "code",
   "execution_count": 43,
   "id": "bba921c2-99bf-46a1-bcb4-293e99e21635",
   "metadata": {},
   "outputs": [
    {
     "data": {
      "application/vnd.jupyter.widget-view+json": {
       "model_id": "768ba71278014764a7b4d3152b1a6be5",
       "version_major": 2,
       "version_minor": 0
      },
      "text/plain": [
       "  0%|          | 0/5 [00:00<?, ?it/s]"
      ]
     },
     "metadata": {},
     "output_type": "display_data"
    }
   ],
   "source": [
    "rng = np.random.default_rng(SEED)\n",
    "x0 = rng.random(len(symbols))\n",
    "niter = 5\n",
    "a = 0.2\n",
    "c = 0.06\n",
    "x, history = train.minimizeSPSA(cost_fn_train, x0=x0, a=a, c=c, niter=niter, rng=rng, callback=cost_fn_dev)\n",
    "x_hist, func_plus_hist, func_minus_hist, grad_hist = history"
   ]
  },
  {
   "cell_type": "code",
   "execution_count": 45,
   "id": "0290f136-eb76-4741-9ba0-054462d08998",
   "metadata": {},
   "outputs": [
    {
     "ename": "ValueError",
     "evalue": "Pool not running",
     "output_type": "error",
     "traceback": [
      "\u001b[0;31m---------------------------------------------------------------------------\u001b[0m",
      "\u001b[0;31mValueError\u001b[0m                                Traceback (most recent call last)",
      "\u001b[0;32m/tmp/ipykernel_11355/3013731874.py\u001b[0m in \u001b[0;36m<module>\u001b[0;34m\u001b[0m\n\u001b[1;32m     17\u001b[0m \u001b[0;31m# print test accuracy\u001b[0m\u001b[0;34m\u001b[0m\u001b[0;34m\u001b[0m\u001b[0;34m\u001b[0m\u001b[0m\n\u001b[1;32m     18\u001b[0m \u001b[0mtest_cost_fn\u001b[0m\u001b[0;34m,\u001b[0m \u001b[0m_\u001b[0m\u001b[0;34m,\u001b[0m \u001b[0mtest_accs\u001b[0m \u001b[0;34m=\u001b[0m \u001b[0mtrain\u001b[0m\u001b[0;34m.\u001b[0m\u001b[0mmake_cost_fn\u001b[0m\u001b[0;34m(\u001b[0m\u001b[0mpred_fn_test\u001b[0m\u001b[0;34m,\u001b[0m \u001b[0mdf_test\u001b[0m\u001b[0;34m[\u001b[0m\u001b[0;34m'label_one_hot'\u001b[0m\u001b[0;34m]\u001b[0m\u001b[0;34m.\u001b[0m\u001b[0mto_list\u001b[0m\u001b[0;34m(\u001b[0m\u001b[0;34m)\u001b[0m\u001b[0;34m)\u001b[0m\u001b[0;34m\u001b[0m\u001b[0;34m\u001b[0m\u001b[0m\n\u001b[0;32m---> 19\u001b[0;31m \u001b[0mtest_cost_fn\u001b[0m\u001b[0;34m(\u001b[0m\u001b[0mx\u001b[0m\u001b[0;34m)\u001b[0m\u001b[0;34m\u001b[0m\u001b[0;34m\u001b[0m\u001b[0m\n\u001b[0m\u001b[1;32m     20\u001b[0m \u001b[0mprint\u001b[0m\u001b[0;34m(\u001b[0m\u001b[0;34m'Test accuracy:'\u001b[0m\u001b[0;34m,\u001b[0m \u001b[0mtest_accs\u001b[0m\u001b[0;34m[\u001b[0m\u001b[0;36m0\u001b[0m\u001b[0;34m]\u001b[0m\u001b[0;34m)\u001b[0m\u001b[0;34m\u001b[0m\u001b[0;34m\u001b[0m\u001b[0m\n\u001b[1;32m     21\u001b[0m \u001b[0;34m\u001b[0m\u001b[0m\n",
      "\u001b[0;32m~/miniconda3/envs/qnlp/lib/python3.7/site-packages/discopro/training.py\u001b[0m in \u001b[0;36mcost_fn\u001b[0;34m(params, **kwargs)\u001b[0m\n\u001b[1;32m    143\u001b[0m     \u001b[0mlabels\u001b[0m \u001b[0;34m=\u001b[0m \u001b[0mnp\u001b[0m\u001b[0;34m.\u001b[0m\u001b[0marray\u001b[0m\u001b[0;34m(\u001b[0m\u001b[0mlabels\u001b[0m\u001b[0;34m)\u001b[0m\u001b[0;34m\u001b[0m\u001b[0;34m\u001b[0m\u001b[0m\n\u001b[1;32m    144\u001b[0m     \u001b[0;32mdef\u001b[0m \u001b[0mcost_fn\u001b[0m\u001b[0;34m(\u001b[0m\u001b[0mparams\u001b[0m\u001b[0;34m,\u001b[0m \u001b[0;34m**\u001b[0m\u001b[0mkwargs\u001b[0m\u001b[0;34m)\u001b[0m\u001b[0;34m:\u001b[0m\u001b[0;34m\u001b[0m\u001b[0;34m\u001b[0m\u001b[0m\n\u001b[0;32m--> 145\u001b[0;31m         \u001b[0mpredictions\u001b[0m \u001b[0;34m=\u001b[0m \u001b[0mpred_fn\u001b[0m\u001b[0;34m(\u001b[0m\u001b[0mparams\u001b[0m\u001b[0;34m)\u001b[0m\u001b[0;34m\u001b[0m\u001b[0;34m\u001b[0m\u001b[0m\n\u001b[0m\u001b[1;32m    146\u001b[0m \u001b[0;34m\u001b[0m\u001b[0m\n\u001b[1;32m    147\u001b[0m         \u001b[0mcost\u001b[0m \u001b[0;34m=\u001b[0m \u001b[0;34m-\u001b[0m\u001b[0mnp\u001b[0m\u001b[0;34m.\u001b[0m\u001b[0msum\u001b[0m\u001b[0;34m(\u001b[0m\u001b[0mlabels\u001b[0m \u001b[0;34m*\u001b[0m \u001b[0mnp\u001b[0m\u001b[0;34m.\u001b[0m\u001b[0mlog\u001b[0m\u001b[0;34m(\u001b[0m\u001b[0mpredictions\u001b[0m\u001b[0;34m)\u001b[0m\u001b[0;34m)\u001b[0m \u001b[0;34m/\u001b[0m \u001b[0mlen\u001b[0m\u001b[0;34m(\u001b[0m\u001b[0mlabels\u001b[0m\u001b[0;34m)\u001b[0m  \u001b[0;31m# binary cross-entropy loss\u001b[0m\u001b[0;34m\u001b[0m\u001b[0;34m\u001b[0m\u001b[0m\n",
      "\u001b[0;32m~/miniconda3/envs/qnlp/lib/python3.7/site-packages/discopro/training.py\u001b[0m in \u001b[0;36mpredict_parallel\u001b[0;34m(params)\u001b[0m\n\u001b[1;32m     98\u001b[0m         \u001b[0mn_circuits\u001b[0m \u001b[0;34m=\u001b[0m \u001b[0mlen\u001b[0m\u001b[0;34m(\u001b[0m\u001b[0mmeasured_circuits\u001b[0m\u001b[0;34m)\u001b[0m\u001b[0;34m\u001b[0m\u001b[0;34m\u001b[0m\u001b[0m\n\u001b[1;32m     99\u001b[0m         \u001b[0;32mdef\u001b[0m \u001b[0mpredict_parallel\u001b[0m\u001b[0;34m(\u001b[0m\u001b[0mparams\u001b[0m\u001b[0;34m)\u001b[0m\u001b[0;34m:\u001b[0m\u001b[0;34m\u001b[0m\u001b[0;34m\u001b[0m\u001b[0m\n\u001b[0;32m--> 100\u001b[0;31m             \u001b[0moutputs\u001b[0m \u001b[0;34m=\u001b[0m \u001b[0mpool\u001b[0m\u001b[0;34m.\u001b[0m\u001b[0mstarmap\u001b[0m\u001b[0;34m(\u001b[0m\u001b[0meval_circuit\u001b[0m\u001b[0;34m,\u001b[0m \u001b[0;34m[\u001b[0m\u001b[0;34m(\u001b[0m\u001b[0mbatch\u001b[0m\u001b[0;34m,\u001b[0m \u001b[0msymbols\u001b[0m\u001b[0;34m,\u001b[0m \u001b[0mparams\u001b[0m\u001b[0;34m,\u001b[0m \u001b[0mclean_kwargs\u001b[0m\u001b[0;34m)\u001b[0m \u001b[0;32mfor\u001b[0m \u001b[0mbatch\u001b[0m \u001b[0;32min\u001b[0m \u001b[0mbatches\u001b[0m\u001b[0;34m]\u001b[0m\u001b[0;34m)\u001b[0m\u001b[0;34m\u001b[0m\u001b[0;34m\u001b[0m\u001b[0m\n\u001b[0m\u001b[1;32m    101\u001b[0m             \u001b[0moutputs\u001b[0m \u001b[0;34m=\u001b[0m \u001b[0;34m[\u001b[0m\u001b[0mcirc_eval\u001b[0m \u001b[0;32mfor\u001b[0m \u001b[0mbatch\u001b[0m \u001b[0;32min\u001b[0m \u001b[0moutputs\u001b[0m \u001b[0;32mfor\u001b[0m \u001b[0mcirc_eval\u001b[0m \u001b[0;32min\u001b[0m \u001b[0mbatch\u001b[0m\u001b[0;34m]\u001b[0m\u001b[0;34m\u001b[0m\u001b[0;34m\u001b[0m\u001b[0m\n\u001b[1;32m    102\u001b[0m             \u001b[0;32massert\u001b[0m \u001b[0mlen\u001b[0m\u001b[0;34m(\u001b[0m\u001b[0moutputs\u001b[0m\u001b[0;34m)\u001b[0m \u001b[0;34m==\u001b[0m \u001b[0mn_circuits\u001b[0m\u001b[0;34m\u001b[0m\u001b[0;34m\u001b[0m\u001b[0m\n",
      "\u001b[0;32m~/miniconda3/envs/qnlp/lib/python3.7/multiprocessing/pool.py\u001b[0m in \u001b[0;36mstarmap\u001b[0;34m(self, func, iterable, chunksize)\u001b[0m\n\u001b[1;32m    274\u001b[0m         \u001b[0;31m`\u001b[0m\u001b[0mfunc\u001b[0m\u001b[0;31m`\u001b[0m \u001b[0;32mand\u001b[0m \u001b[0;34m(\u001b[0m\u001b[0ma\u001b[0m\u001b[0;34m,\u001b[0m \u001b[0mb\u001b[0m\u001b[0;34m)\u001b[0m \u001b[0mbecomes\u001b[0m \u001b[0mfunc\u001b[0m\u001b[0;34m(\u001b[0m\u001b[0ma\u001b[0m\u001b[0;34m,\u001b[0m \u001b[0mb\u001b[0m\u001b[0;34m)\u001b[0m\u001b[0;34m.\u001b[0m\u001b[0;34m\u001b[0m\u001b[0;34m\u001b[0m\u001b[0m\n\u001b[1;32m    275\u001b[0m         '''\n\u001b[0;32m--> 276\u001b[0;31m         \u001b[0;32mreturn\u001b[0m \u001b[0mself\u001b[0m\u001b[0;34m.\u001b[0m\u001b[0m_map_async\u001b[0m\u001b[0;34m(\u001b[0m\u001b[0mfunc\u001b[0m\u001b[0;34m,\u001b[0m \u001b[0miterable\u001b[0m\u001b[0;34m,\u001b[0m \u001b[0mstarmapstar\u001b[0m\u001b[0;34m,\u001b[0m \u001b[0mchunksize\u001b[0m\u001b[0;34m)\u001b[0m\u001b[0;34m.\u001b[0m\u001b[0mget\u001b[0m\u001b[0;34m(\u001b[0m\u001b[0;34m)\u001b[0m\u001b[0;34m\u001b[0m\u001b[0;34m\u001b[0m\u001b[0m\n\u001b[0m\u001b[1;32m    277\u001b[0m \u001b[0;34m\u001b[0m\u001b[0m\n\u001b[1;32m    278\u001b[0m     def starmap_async(self, func, iterable, chunksize=None, callback=None,\n",
      "\u001b[0;32m~/miniconda3/envs/qnlp/lib/python3.7/multiprocessing/pool.py\u001b[0m in \u001b[0;36m_map_async\u001b[0;34m(self, func, iterable, mapper, chunksize, callback, error_callback)\u001b[0m\n\u001b[1;32m    379\u001b[0m         '''\n\u001b[1;32m    380\u001b[0m         \u001b[0;32mif\u001b[0m \u001b[0mself\u001b[0m\u001b[0;34m.\u001b[0m\u001b[0m_state\u001b[0m \u001b[0;34m!=\u001b[0m \u001b[0mRUN\u001b[0m\u001b[0;34m:\u001b[0m\u001b[0;34m\u001b[0m\u001b[0;34m\u001b[0m\u001b[0m\n\u001b[0;32m--> 381\u001b[0;31m             \u001b[0;32mraise\u001b[0m \u001b[0mValueError\u001b[0m\u001b[0;34m(\u001b[0m\u001b[0;34m\"Pool not running\"\u001b[0m\u001b[0;34m)\u001b[0m\u001b[0;34m\u001b[0m\u001b[0;34m\u001b[0m\u001b[0m\n\u001b[0m\u001b[1;32m    382\u001b[0m         \u001b[0;32mif\u001b[0m \u001b[0;32mnot\u001b[0m \u001b[0mhasattr\u001b[0m\u001b[0;34m(\u001b[0m\u001b[0miterable\u001b[0m\u001b[0;34m,\u001b[0m \u001b[0;34m'__len__'\u001b[0m\u001b[0;34m)\u001b[0m\u001b[0;34m:\u001b[0m\u001b[0;34m\u001b[0m\u001b[0;34m\u001b[0m\u001b[0m\n\u001b[1;32m    383\u001b[0m             \u001b[0miterable\u001b[0m \u001b[0;34m=\u001b[0m \u001b[0mlist\u001b[0m\u001b[0;34m(\u001b[0m\u001b[0miterable\u001b[0m\u001b[0;34m)\u001b[0m\u001b[0;34m\u001b[0m\u001b[0;34m\u001b[0m\u001b[0m\n",
      "\u001b[0;31mValueError\u001b[0m: Pool not running"
     ]
    },
    {
     "data": {
      "image/png": "[encoded data removed]",
      "text/plain": [
       "<Figure size 720x432 with 4 Axes>"
      ]
     },
     "metadata": {
      "needs_background": "light"
     },
     "output_type": "display_data"
    }
   ],
   "source": [
    "import matplotlib.pyplot as plt\n",
    "\n",
    "fig, ((ax_tl, ax_tr), (ax_bl, ax_br)) = plt.subplots(2, 2, sharex=True, sharey='row', figsize=(10, 6))\n",
    "ax_tl.set_title('Training set')\n",
    "ax_tr.set_title('Development set')\n",
    "ax_bl.set_xlabel('Iterations')\n",
    "ax_br.set_xlabel('Iterations')\n",
    "ax_bl.set_ylabel('Accuracy')\n",
    "ax_tl.set_ylabel('Loss')\n",
    "\n",
    "colours = iter(plt.rcParams['axes.prop_cycle'].by_key()['color'])\n",
    "ax_tl.plot(func_plus_hist, color=next(colours))  # training evaluates twice per iteration\n",
    "ax_bl.plot(accs_train[1::2], color=next(colours))   # so take every other entry\n",
    "ax_tr.plot(costs_dev, color=next(colours))\n",
    "ax_br.plot(accs_dev, color=next(colours))\n",
    "\n",
    "# print test accuracy\n",
    "test_cost_fn, _, test_accs = train.make_cost_fn(pred_fn_test, df_test['label_one_hot'].to_list())\n",
    "test_cost_fn(x)\n",
    "print('Test accuracy:', test_accs[0])\n",
    "\n",
    "pool.close()\n",
    "pool.join()"
   ]
  }
 ],
 "metadata": {
  "kernelspec": {
   "display_name": "Python 3 (ipykernel)",
   "language": "python",
   "name": "python3"
  },
  "language_info": {
   "codemirror_mode": {
    "name": "ipython",
    "version": 3
   },
   "file_extension": ".py",
   "mimetype": "text/x-python",
   "name": "python",
   "nbconvert_exporter": "python",
   "pygments_lexer": "ipython3",
   "version": "3.7.11"
  }
 },
 "nbformat": 4,
 "nbformat_minor": 5
}
