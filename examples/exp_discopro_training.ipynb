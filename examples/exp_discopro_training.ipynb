{
 "cells": [
  {
   "cell_type": "code",
   "execution_count": 1,
   "id": "0ba58344-2284-4798-aa87-f4355edbcfae",
   "metadata": {},
   "outputs": [
    {
     "name": "stderr",
     "output_type": "stream",
     "text": [
      "WARNING:absl:No GPU/TPU found, falling back to CPU. (Set TF_CPP_MIN_LOG_LEVEL=0 and rerun for more info.)\n"
     ]
    }
   ],
   "source": [
    "import pandas as pd\n",
    "import numpy as np \n",
    "\n",
    "from discopy import Id, Ty\n",
    "\n",
    "from discopro.grammar import tensor\n",
    "from discopro.rewriting import contract, pronoun_rule\n",
    "from discopro.anaphora import connect_anaphora_on_top\n",
    "import discopro.training as train\n",
    "\n",
    "from lambeq.ccg2discocat import DepCCGParser\n",
    "from lambeq.circuit import IQPAnsatz\n",
    "from lambeq.core.types import AtomicType\n",
    "from lambeq.rewrite import Rewriter\n",
    "\n",
    "from pytket.extensions.qulacs import QulacsBackend\n",
    "from pytket.extensions.qiskit import AerBackend\n",
    "\n",
    "from multiprocessing import Pool, cpu_count\n",
    "import warnings\n",
    "warnings.filterwarnings('ignore')\n",
    "\n",
    "%load_ext autoreload\n",
    "%autoreload 2\n",
    "\n",
    "N = AtomicType.NOUN\n",
    "S = AtomicType.SENTENCE\n",
    "P = AtomicType.PREPOSITION\n",
    "\n",
    "SEED = 0"
   ]
  },
  {
   "cell_type": "code",
   "execution_count": 2,
   "id": "71f1015d-cc69-4679-b8f1-2f2d571114de",
   "metadata": {},
   "outputs": [],
   "source": [
    "parser = DepCCGParser()\n",
    "def parse(sent):\n",
    "    sentences = map(str.strip, sent.split('.'))\n",
    "    diag = Id(Ty())\n",
    "    for s in sentences:\n",
    "        if len(s) == 0:\n",
    "            continue\n",
    "        diag = tensor(diag, parser.sentence2diagram(s))\n",
    "    return diag"
   ]
  },
  {
   "cell_type": "code",
   "execution_count": 3,
   "id": "ea9e4447-36d2-44d0-bf43-17d001d41b02",
   "metadata": {},
   "outputs": [],
   "source": [
    "rewrite = Rewriter(['auxiliary', 'determiner', 'prepositional_phrase', 'connector', 'postadverb', 'preadverb'])\n",
    "rewrite.add_rules(pronoun_rule)\n",
    "\n",
    "ansatz = IQPAnsatz({N: 1, S: 1, P: 1}, n_layers=1)"
   ]
  },
  {
   "cell_type": "code",
   "execution_count": 4,
   "id": "52124f01-2049-4f0d-bf41-639da4704d60",
   "metadata": {},
   "outputs": [],
   "source": [
    "csv_path = \"datasets/wino2/{:}.csv\"\n",
    "df_train = pd.read_csv(csv_path.format('train'))\n",
    "df_dev = pd.read_csv(csv_path.format('dev'))\n",
    "df_test = pd.read_csv(csv_path.format('test'))"
   ]
  },
  {
   "cell_type": "code",
   "execution_count": 5,
   "id": "66c8989f-6e77-453a-ad9d-f426a4e43bb3",
   "metadata": {},
   "outputs": [],
   "source": [
    "df_train['label_one_hot'] = df_train['label'].map({0: [1, 0], 1: [0, 1]})\n",
    "df_dev['label_one_hot'] = df_dev['label'].map({0: [1, 0], 1: [0, 1]})\n",
    "df_test['label_one_hot'] = df_test['label'].map({0:[1, 0], 1: [0, 1]})"
   ]
  },
  {
   "cell_type": "code",
   "execution_count": 6,
   "id": "e0adb408-8df8-4bf4-8e88-5e8b9b53c053",
   "metadata": {},
   "outputs": [
    {
     "name": "stderr",
     "output_type": "stream",
     "text": [
      "\n",
      "\n",
      "\n",
      "\n",
      "\n",
      "\n",
      "\n",
      "\n",
      "\n",
      "\n",
      "\n",
      "\n",
      "\n",
      "\n",
      "\n",
      "\n",
      "\n",
      "\n",
      "\n",
      "\n",
      "\n",
      "\n",
      "\n",
      "\n",
      "\n",
      "\n",
      "\n",
      "\n",
      "\n",
      "\n",
      "\n",
      "\n",
      "\n",
      "\n",
      "\n",
      "\n",
      "\n",
      "\n",
      "\n",
      "\n"
     ]
    }
   ],
   "source": [
    "def sent_to_diag(row):\n",
    "    sent, pro, ref = row\n",
    "    diag = parse(sent)\n",
    "    pro_box_idx = next(i for i, box in enumerate(diag.boxes) if box.name.casefold() == pro.casefold())\n",
    "    ref_box_idx = next(i for i, box in enumerate(diag.boxes) if box.name.casefold() == ref.casefold())\n",
    "    diag = connect_anaphora_on_top(diag, pro_box_idx, ref_box_idx)\n",
    "    diag = rewrite(diag).normal_form()\n",
    "    diag = contract(diag)\n",
    "    return diag \n",
    "\n",
    "df_train['diagram'] = df_train[['sentence', 'pronoun', 'referent']].apply(sent_to_diag, axis=1)\n",
    "df_dev['diagram'] = df_dev[['sentence', 'pronoun', 'referent']].apply(sent_to_diag, axis=1)\n",
    "df_test['diagram'] = df_test[['sentence', 'pronoun', 'referent']].apply(sent_to_diag, axis=1)\n",
    "\n",
    "df_train['circuit'] = df_train['diagram'].map(ansatz)\n",
    "df_dev['circuit'] = df_dev['diagram'].map(ansatz)\n",
    "df_test['circuit'] = df_test['diagram'].map(ansatz)"
   ]
  },
  {
   "cell_type": "code",
   "execution_count": 7,
   "id": "fdf93bfb-d7a3-402f-85c2-72617d6ec6a0",
   "metadata": {},
   "outputs": [],
   "source": [
    "all_circuits = pd.concat([df_train['circuit'], df_dev['circuit'], df_test['circuit']])\n",
    "circ_symbols = train.get_sorted_symbols(all_circuits)\n",
    "reduction_tensor, tensor_symbols = train.get_reduction_tensor('R', 2)\n",
    "symbols = circ_symbols + tensor_symbols\n",
    "\n",
    "post_process = train.make_default_post_process(reduction_tensor, symbols)\n",
    "backend = QulacsBackend()\n",
    "optim_level = 2\n",
    "pool = Pool(cpu_count())\n",
    "eval_config = {'n_shots': 2**6,\n",
    "               'seed': SEED,\n",
    "               'parallel_eval': True,\n",
    "               'backend_name': 'qulacs',\n",
    "               'backend': backend,\n",
    "               'compilation_optim_level': optim_level,\n",
    "               'compilation': backend.default_compilation_pass(optim_level),\n",
    "               'pool': pool}\n",
    "\n",
    "pred_fn_train = train.make_pred_fn(df_train['circuit'], symbols, post_process, **eval_config)\n",
    "pred_fn_dev = train.make_pred_fn(df_dev['circuit'], symbols, post_process, **eval_config)\n",
    "pred_fn_test = train.make_pred_fn(df_test['circuit'], symbols, post_process, **eval_config)\n",
    "\n",
    "cost_fn_train = train.make_cost_fn(pred_fn_train, df_train['label_one_hot'].to_list())\n",
    "cost_fn_dev = train.make_cost_fn(pred_fn_dev, df_dev['label_one_hot'].to_list())"
   ]
  },
  {
   "cell_type": "code",
   "execution_count": 8,
   "id": "bba921c2-99bf-46a1-bcb4-293e99e21635",
   "metadata": {},
   "outputs": [
    {
     "data": {
      "application/vnd.jupyter.widget-view+json": {
       "model_id": "4268d5e4c12e4666be9f0745a52af103",
       "version_major": 2,
       "version_minor": 0
      },
      "text/plain": [
       "  0%|          | 0/5 [00:00<?, ?it/s]"
      ]
     },
     "metadata": {},
     "output_type": "display_data"
    }
   ],
   "source": [
    "rng = np.random.default_rng(SEED)\n",
    "SPSA_configs = {'niter': 5,\n",
    "                'a': 0.2,\n",
    "                'c': 0.06,\n",
    "                'x0': rng.random(len(symbols)),\n",
    "                'rng': rng,\n",
    "                'func_dev': cost_fn_dev}\n",
    "final_params, history = train.minimizeSPSA(cost_fn_train, **SPSA_configs)"
   ]
  },
  {
   "cell_type": "code",
   "execution_count": 9,
   "id": "0290f136-eb76-4741-9ba0-054462d08998",
   "metadata": {},
   "outputs": [
    {
     "name": "stdout",
     "output_type": "stream",
     "text": [
      "Test accuracy: 0.875\n"
     ]
    },
    {
     "data": {
      "image/png": "[encoded data removed]",
      "text/plain": [
       "<Figure size 720x432 with 4 Axes>"
      ]
     },
     "metadata": {
      "needs_background": "light"
     },
     "output_type": "display_data"
    }
   ],
   "source": [
    "train.plot_train_history(history)\n",
    "\n",
    "# print test accuracy\n",
    "cost_fn_test = train.make_cost_fn(pred_fn_test, df_test['label_one_hot'].to_list())\n",
    "cost_test, acc_test = cost_fn_test(final_params)\n",
    "print('Test accuracy:', acc_test)\n",
    "\n",
    "pool.close()\n",
    "pool.join()"
   ]
  }
 ],
 "metadata": {
  "kernelspec": {
   "display_name": "Python 3 (ipykernel)",
   "language": "python",
   "name": "python3"
  },
  "language_info": {
   "codemirror_mode": {
    "name": "ipython",
    "version": 3
   },
   "file_extension": ".py",
   "mimetype": "text/x-python",
   "name": "python",
   "nbconvert_exporter": "python",
   "pygments_lexer": "ipython3",
   "version": "3.7.11"
  }
 },
 "nbformat": 4,
 "nbformat_minor": 5
}
